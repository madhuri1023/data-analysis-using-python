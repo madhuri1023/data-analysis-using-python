{
 "cells": [
  {
   "cell_type": "code",
   "execution_count": 1,
   "metadata": {},
   "outputs": [],
   "source": [
    "import numpy as np"
   ]
  },
  {
   "cell_type": "code",
   "execution_count": 2,
   "metadata": {},
   "outputs": [],
   "source": [
    "#random\n",
    "import numpy as np"
   ]
  },
  {
   "cell_type": "code",
   "execution_count": 48,
   "metadata": {},
   "outputs": [
    {
     "data": {
      "text/plain": [
       "0.3230450490512776"
      ]
     },
     "execution_count": 48,
     "metadata": {},
     "output_type": "execute_result"
    }
   ],
   "source": [
    "r=np.random.random()\n",
    "r"
   ]
  },
  {
   "cell_type": "code",
   "execution_count": 49,
   "metadata": {},
   "outputs": [
    {
     "data": {
      "text/plain": [
       "array([[0.59511477, 0.31179909, 0.05618797, 0.34454794],\n",
       "       [0.69394511, 0.45949392, 0.46270437, 0.56952264],\n",
       "       [0.11861891, 0.29230427, 0.45009675, 0.79122324],\n",
       "       [0.49460832, 0.33608772, 0.21478379, 0.31020489]])"
      ]
     },
     "execution_count": 49,
     "metadata": {},
     "output_type": "execute_result"
    }
   ],
   "source": [
    "r=np.random.random((4,4))\n",
    "r"
   ]
  },
  {
   "cell_type": "code",
   "execution_count": 50,
   "metadata": {},
   "outputs": [
    {
     "data": {
      "text/plain": [
       "-2.1931784771867893"
      ]
     },
     "execution_count": 50,
     "metadata": {},
     "output_type": "execute_result"
    }
   ],
   "source": [
    "r1=np.random.randn()\n",
    "r1"
   ]
  },
  {
   "cell_type": "code",
   "execution_count": 51,
   "metadata": {},
   "outputs": [
    {
     "data": {
      "text/plain": [
       "array([[ 0.50877419,  0.57575975, -1.00914349, -0.06740946],\n",
       "       [-0.09121981,  0.56124744, -0.1123251 ,  1.81173729],\n",
       "       [-0.6876689 , -0.4850963 , -1.29351481, -1.06068006]])"
      ]
     },
     "execution_count": 51,
     "metadata": {},
     "output_type": "execute_result"
    }
   ],
   "source": [
    "r1=np.random.randn(3,4)\n",
    "r1"
   ]
  },
  {
   "cell_type": "code",
   "execution_count": 52,
   "metadata": {},
   "outputs": [
    {
     "data": {
      "text/plain": [
       "13"
      ]
     },
     "execution_count": 52,
     "metadata": {},
     "output_type": "execute_result"
    }
   ],
   "source": [
    "r1=np.random.randint(1,20)\n",
    "r1"
   ]
  },
  {
   "cell_type": "code",
   "execution_count": 53,
   "metadata": {},
   "outputs": [
    {
     "data": {
      "text/plain": [
       "array([[11,  8, 10,  2,  7,  1],\n",
       "       [18,  7, 13, 16,  2,  6],\n",
       "       [12,  2,  7, 11,  9, 17],\n",
       "       [16,  8, 16,  1, 19,  6],\n",
       "       [10, 17, 11, 16,  1, 16]])"
      ]
     },
     "execution_count": 53,
     "metadata": {},
     "output_type": "execute_result"
    }
   ],
   "source": [
    "r1=np.random.randint(1,20,(5,6))\n",
    "r1"
   ]
  },
  {
   "cell_type": "code",
   "execution_count": 54,
   "metadata": {},
   "outputs": [
    {
     "data": {
      "text/plain": [
       "519623"
      ]
     },
     "execution_count": 54,
     "metadata": {},
     "output_type": "execute_result"
    }
   ],
   "source": [
    "otp=np.random.randint(100000,999999)\n",
    "otp"
   ]
  },
  {
   "cell_type": "code",
   "execution_count": 55,
   "metadata": {},
   "outputs": [
    {
     "name": "stdout",
     "output_type": "stream",
     "text": [
      "['Lock', 'RandomState', '__RandomState_ctor', '__all__', '__builtins__', '__cached__', '__doc__', '__file__', '__loader__', '__name__', '__package__', '__path__', '__spec__', 'absolute_import', 'beta', 'binomial', 'bytes', 'chisquare', 'choice', 'dirichlet', 'division', 'exponential', 'f', 'gamma', 'geometric', 'get_state', 'gumbel', 'hypergeometric', 'laplace', 'logistic', 'lognormal', 'logseries', 'mtrand', 'multinomial', 'multivariate_normal', 'negative_binomial', 'noncentral_chisquare', 'noncentral_f', 'normal', 'np', 'operator', 'pareto', 'permutation', 'poisson', 'power', 'print_function', 'rand', 'randint', 'randn', 'random', 'random_integers', 'random_sample', 'ranf', 'rayleigh', 'sample', 'seed', 'set_state', 'shuffle', 'standard_cauchy', 'standard_exponential', 'standard_gamma', 'standard_normal', 'standard_t', 'test', 'triangular', 'uniform', 'vonmises', 'wald', 'warnings', 'weibull', 'zipf']\n"
     ]
    }
   ],
   "source": [
    "print(dir(np.random))"
   ]
  },
  {
   "cell_type": "code",
   "execution_count": 56,
   "metadata": {},
   "outputs": [
    {
     "name": "stdout",
     "output_type": "stream",
     "text": [
      "['__all__', '__builtins__', '__cached__', '__doc__', '__file__', '__loader__', '__name__', '__package__', '__spec__', '_binary_op_dispatcher', '_bytes', '_center_dispatcher', '_clean_args', '_code_dispatcher', '_count_dispatcher', '_endswith_dispatcher', '_expandtabs_dispatcher', '_get_num_chars', '_globalvar', '_join_dispatcher', '_just_dispatcher', '_len', '_mod_dispatcher', '_multiply_dispatcher', '_partition_dispatcher', '_replace_dispatcher', '_split_dispatcher', '_splitlines_dispatcher', '_startswith_dispatcher', '_strip_dispatcher', '_to_string_or_unicode_array', '_translate_dispatcher', '_unary_op_dispatcher', '_unicode', '_use_unicode', '_vec_string', '_zfill_dispatcher', 'absolute_import', 'add', 'array', 'array_function_dispatch', 'asarray', 'asbytes', 'bool_', 'capitalize', 'center', 'character', 'chararray', 'compare_chararrays', 'count', 'decode', 'division', 'encode', 'endswith', 'equal', 'expandtabs', 'find', 'functools', 'greater', 'greater_equal', 'index', 'integer', 'isalnum', 'isalpha', 'isdecimal', 'isdigit', 'islower', 'isnumeric', 'isspace', 'istitle', 'isupper', 'join', 'less', 'less_equal', 'ljust', 'long', 'lower', 'lstrip', 'mod', 'multiply', 'narray', 'ndarray', 'not_equal', 'numpy', 'object_', 'overrides', 'partition', 'print_function', 'replace', 'rfind', 'rindex', 'rjust', 'rpartition', 'rsplit', 'rstrip', 'set_module', 'split', 'splitlines', 'startswith', 'str_len', 'string_', 'strip', 'swapcase', 'sys', 'title', 'translate', 'unicode_', 'upper', 'zfill']\n"
     ]
    }
   ],
   "source": [
    "print(dir(np.char))"
   ]
  },
  {
   "cell_type": "code",
   "execution_count": 57,
   "metadata": {},
   "outputs": [
    {
     "data": {
      "text/plain": [
       "array(['RaMya', 'NaiNcY', 'RaMu', 'ManI'], dtype='<U6')"
      ]
     },
     "execution_count": 57,
     "metadata": {},
     "output_type": "execute_result"
    }
   ],
   "source": [
    "name=['RaMya','NaiNcY','RaMu','ManI']\n",
    "n=np.array(name)\n",
    "n"
   ]
  },
  {
   "cell_type": "code",
   "execution_count": 58,
   "metadata": {},
   "outputs": [
    {
     "data": {
      "text/plain": [
       "array(['ramya', 'naincy', 'ramu', 'mani'], dtype='<U6')"
      ]
     },
     "execution_count": 58,
     "metadata": {},
     "output_type": "execute_result"
    }
   ],
   "source": [
    "m=np.char.lower(name)\n",
    "m"
   ]
  },
  {
   "cell_type": "code",
   "execution_count": 59,
   "metadata": {},
   "outputs": [
    {
     "data": {
      "text/plain": [
       "array(['RAMYA', 'NAINCY', 'RAMU', 'MANI'], dtype='<U6')"
      ]
     },
     "execution_count": 59,
     "metadata": {},
     "output_type": "execute_result"
    }
   ],
   "source": [
    "z=np.char.upper(name)\n",
    "z"
   ]
  },
  {
   "cell_type": "code",
   "execution_count": 60,
   "metadata": {},
   "outputs": [
    {
     "data": {
      "text/plain": [
       "array(['rAmYA', 'nAInCy', 'rAmU', 'mANi'], dtype='<U6')"
      ]
     },
     "execution_count": 60,
     "metadata": {},
     "output_type": "execute_result"
    }
   ],
   "source": [
    "x=np.char.swapcase(name)\n",
    "x"
   ]
  },
  {
   "cell_type": "code",
   "execution_count": 61,
   "metadata": {},
   "outputs": [
    {
     "data": {
      "text/plain": [
       "array([list(['RaMya']), list(['NaiNcY']), list(['RaMu']), list(['ManI'])],\n",
       "      dtype=object)"
      ]
     },
     "execution_count": 61,
     "metadata": {},
     "output_type": "execute_result"
    }
   ],
   "source": [
    "x=np.char.split(name)\n",
    "x"
   ]
  },
  {
   "cell_type": "code",
   "execution_count": 62,
   "metadata": {},
   "outputs": [
    {
     "data": {
      "text/plain": [
       "array(['Ramya', 'Naincy', 'Ramu', 'Mani'], dtype='<U6')"
      ]
     },
     "execution_count": 62,
     "metadata": {},
     "output_type": "execute_result"
    }
   ],
   "source": [
    "x=np.char.title(name)\n",
    "x"
   ]
  },
  {
   "cell_type": "code",
   "execution_count": 63,
   "metadata": {},
   "outputs": [
    {
     "data": {
      "text/plain": [
       "array([ True, False, False])"
      ]
     },
     "execution_count": 63,
     "metadata": {},
     "output_type": "execute_result"
    }
   ],
   "source": [
    "s1=['python','proggraming','language']\n",
    "np.char.startswith(s1,'py')"
   ]
  },
  {
   "cell_type": "code",
   "execution_count": 64,
   "metadata": {},
   "outputs": [
    {
     "data": {
      "text/plain": [
       "array([False, False,  True])"
      ]
     },
     "execution_count": 64,
     "metadata": {},
     "output_type": "execute_result"
    }
   ],
   "source": [
    "s1=['python','proggraming','language']\n",
    "np.char.endswith(s1,'ge')"
   ]
  },
  {
   "cell_type": "code",
   "execution_count": 65,
   "metadata": {},
   "outputs": [
    {
     "data": {
      "text/plain": [
       "array(['phyton', 'language'], dtype='<U8')"
      ]
     },
     "execution_count": 65,
     "metadata": {},
     "output_type": "execute_result"
    }
   ],
   "source": [
    "a=np.char.add(['phy','lang'],['ton','uage'])\n",
    "a"
   ]
  },
  {
   "cell_type": "code",
   "execution_count": 66,
   "metadata": {},
   "outputs": [
    {
     "data": {
      "text/plain": [
       "array(['mani 2 cse', 'honey 3 it', 'naincy 9 ece', 'ramu 5 eee'],\n",
       "      dtype='<U12')"
      ]
     },
     "execution_count": 66,
     "metadata": {},
     "output_type": "execute_result"
    }
   ],
   "source": [
    "a=['mani ','honey ','naincy ','ramu ']\n",
    "b=['2','3','9','5']\n",
    "c=[' cse',' it',' ece',' eee']\n",
    "np.char.add(np.char.add(a,b),c)"
   ]
  },
  {
   "cell_type": "code",
   "execution_count": 67,
   "metadata": {},
   "outputs": [
    {
     "data": {
      "text/plain": [
       "array(['mani', 'naincy', 'ramu', 'vishwa'], dtype='<U6')"
      ]
     },
     "execution_count": 67,
     "metadata": {},
     "output_type": "execute_result"
    }
   ],
   "source": [
    "s1=['mani','naincy','ramu','vishwa']\n",
    "np.sort(s1)"
   ]
  },
  {
   "cell_type": "code",
   "execution_count": 68,
   "metadata": {},
   "outputs": [
    {
     "data": {
      "text/plain": [
       "array(['Mani', 'Naincy', 'Ramu', 'Vishwa'], dtype='<U6')"
      ]
     },
     "execution_count": 68,
     "metadata": {},
     "output_type": "execute_result"
    }
   ],
   "source": [
    "np.char.capitalize(s1)"
   ]
  },
  {
   "cell_type": "code",
   "execution_count": 69,
   "metadata": {},
   "outputs": [
    {
     "data": {
      "text/plain": [
       "array([[8, 9, 5, 1],\n",
       "       [6, 9, 2, 7],\n",
       "       [5, 1, 2, 1],\n",
       "       [5, 5, 4, 1]])"
      ]
     },
     "execution_count": 69,
     "metadata": {},
     "output_type": "execute_result"
    }
   ],
   "source": [
    "b=np.random.randint(1,10,(4,4))\n",
    "b"
   ]
  },
  {
   "cell_type": "code",
   "execution_count": 70,
   "metadata": {},
   "outputs": [
    {
     "data": {
      "text/plain": [
       "array([[ 0,  2,  3,  7],\n",
       "       [ 8,  9,  0, 12]])"
      ]
     },
     "execution_count": 70,
     "metadata": {},
     "output_type": "execute_result"
    }
   ],
   "source": [
    "a=np.array([[0,2,3,7],[8,9,0,12]])\n",
    "a"
   ]
  },
  {
   "cell_type": "code",
   "execution_count": 71,
   "metadata": {},
   "outputs": [
    {
     "data": {
      "text/plain": [
       "(array([0, 0, 0, 1, 1, 1], dtype=int64),\n",
       " array([1, 2, 3, 0, 1, 3], dtype=int64))"
      ]
     },
     "execution_count": 71,
     "metadata": {},
     "output_type": "execute_result"
    }
   ],
   "source": [
    "a.nonzero()"
   ]
  },
  {
   "cell_type": "code",
   "execution_count": 72,
   "metadata": {},
   "outputs": [
    {
     "data": {
      "text/plain": [
       "array([[False, False, False,  True],\n",
       "       [ True,  True, False,  True]])"
      ]
     },
     "execution_count": 72,
     "metadata": {},
     "output_type": "execute_result"
    }
   ],
   "source": [
    "a>5"
   ]
  },
  {
   "cell_type": "code",
   "execution_count": 73,
   "metadata": {},
   "outputs": [
    {
     "name": "stdout",
     "output_type": "stream",
     "text": [
      "[ 7  8  9 12]\n"
     ]
    }
   ],
   "source": [
    "print(a[a>5])"
   ]
  },
  {
   "cell_type": "code",
   "execution_count": 74,
   "metadata": {},
   "outputs": [
    {
     "name": "stdout",
     "output_type": "stream",
     "text": [
      "[[10  7]\n",
      " [ 3  3]] \n",
      "\n",
      "[[ 2 -3]\n",
      " [ 1 -1]] \n",
      "\n",
      "[[24 10]\n",
      " [ 2  2]] \n",
      "\n",
      "[[1.5 0.4]\n",
      " [2.  0.5]] \n",
      "\n",
      "[[2 2]\n",
      " [0 1]] \n",
      "\n",
      "[[26 34]\n",
      " [ 9 12]] \n",
      "\n"
     ]
    },
    {
     "data": {
      "text/plain": [
       "array([[4, 1],\n",
       "       [5, 2]])"
      ]
     },
     "execution_count": 74,
     "metadata": {},
     "output_type": "execute_result"
    }
   ],
   "source": [
    "a=np.array([[6,2,],[2,1,]])\n",
    "b=np.array([[4,5,],[1,2,]])\n",
    "print(a+b,'\\n')\n",
    "print(a-b,'\\n')\n",
    "print(a*b,'\\n')\n",
    "print(a/b,'\\n')\n",
    "print(a%b,'\\n')\n",
    "print(a@b,'\\n')\n",
    "a.transpose()\n",
    "b.transpose()"
   ]
  },
  {
   "cell_type": "code",
   "execution_count": 3,
   "metadata": {},
   "outputs": [],
   "source": [
    "#pandas\n",
    "import pandas as pd"
   ]
  },
  {
   "cell_type": "code",
   "execution_count": 30,
   "metadata": {},
   "outputs": [
    {
     "data": {
      "text/plain": [
       "0        10\n",
       "1         A\n",
       "2    python\n",
       "3       876\n",
       "4        54\n",
       "dtype: object"
      ]
     },
     "execution_count": 30,
     "metadata": {},
     "output_type": "execute_result"
    }
   ],
   "source": [
    "#create a series using list\n",
    "s1=pd.Series([10,'A','python',876,54])\n",
    "s1"
   ]
  },
  {
   "cell_type": "code",
   "execution_count": 31,
   "metadata": {},
   "outputs": [
    {
     "data": {
      "text/plain": [
       "int        10\n",
       "int        23\n",
       "str         A\n",
       "str    python\n",
       "dtype: object"
      ]
     },
     "execution_count": 31,
     "metadata": {},
     "output_type": "execute_result"
    }
   ],
   "source": [
    "#create a series using tuple\n",
    "s1=pd.Series((10,23,'A','python'),index=['int','int','str','str'])\n",
    "s1"
   ]
  },
  {
   "cell_type": "code",
   "execution_count": 32,
   "metadata": {},
   "outputs": [
    {
     "data": {
      "text/plain": [
       "a    12\n",
       "b    13\n",
       "c    14\n",
       "d    15\n",
       "dtype: int64"
      ]
     },
     "execution_count": 32,
     "metadata": {},
     "output_type": "execute_result"
    }
   ],
   "source": [
    "#create a series using directory\n",
    "s1=pd.Series({'a':12,'b':13,'c':14,'d':15})\n",
    "s1"
   ]
  },
  {
   "cell_type": "code",
   "execution_count": 33,
   "metadata": {},
   "outputs": [
    {
     "name": "stdout",
     "output_type": "stream",
     "text": [
      "[7 4 9 2 5 9]\n"
     ]
    },
    {
     "data": {
      "text/plain": [
       "0    7\n",
       "1    4\n",
       "2    9\n",
       "3    2\n",
       "4    5\n",
       "5    9\n",
       "dtype: int32"
      ]
     },
     "execution_count": 33,
     "metadata": {},
     "output_type": "execute_result"
    }
   ],
   "source": [
    "b=np.array(np.random.randint(1,10,6))\n",
    "print(b)\n",
    "pd.Series(b)"
   ]
  },
  {
   "cell_type": "code",
   "execution_count": 34,
   "metadata": {},
   "outputs": [
    {
     "name": "stdout",
     "output_type": "stream",
     "text": [
      "None\n"
     ]
    },
    {
     "data": {
      "text/plain": [
       "0    2\n",
       "1    3\n",
       "2    4\n",
       "3    5\n",
       "dtype: int32"
      ]
     },
     "execution_count": 34,
     "metadata": {},
     "output_type": "execute_result"
    }
   ],
   "source": [
    "a=pd.Series(np.array([1,2,3,4]))\n",
    "print(a.update(pd.Series([2,3,4,5])))\n",
    "a"
   ]
  },
  {
   "cell_type": "code",
   "execution_count": 35,
   "metadata": {},
   "outputs": [
    {
     "data": {
      "text/plain": [
       "0     4\n",
       "1     6\n",
       "2     8\n",
       "3    10\n",
       "dtype: int64"
      ]
     },
     "execution_count": 35,
     "metadata": {},
     "output_type": "execute_result"
    }
   ],
   "source": [
    "a.add([2,3,4,5])"
   ]
  },
  {
   "cell_type": "code",
   "execution_count": 36,
   "metadata": {},
   "outputs": [
    {
     "name": "stdout",
     "output_type": "stream",
     "text": [
      "0     91\n",
      "1    102\n",
      "2     34\n",
      "3     56\n",
      "0     12\n",
      "1     98\n",
      "2     23\n",
      "3     76\n",
      "dtype: int32 \n",
      "\n",
      "0     91\n",
      "1    102\n",
      "2     34\n",
      "3     56\n",
      "4     12\n",
      "5     98\n",
      "6     23\n",
      "7     76\n",
      "dtype: int32\n"
     ]
    }
   ],
   "source": [
    "a=pd.Series(np.array([91,102,34,56]))\n",
    "b=pd.Series(np.array([12,98,23,76]))\n",
    "print(a.append(b),'\\n')\n",
    "print(a.append(b,ignore_index=True))"
   ]
  },
  {
   "cell_type": "code",
   "execution_count": 37,
   "metadata": {},
   "outputs": [
    {
     "name": "stdout",
     "output_type": "stream",
     "text": [
      "0    45.5\n",
      "1    51.0\n",
      "2    17.0\n",
      "3    28.0\n",
      "dtype: float64 \n",
      "\n",
      "0     4.000000\n",
      "1    32.666667\n",
      "2     7.666667\n",
      "3    25.333333\n",
      "dtype: float64 \n",
      "\n"
     ]
    }
   ],
   "source": [
    "print(a.divide(2),'\\n')\n",
    "print(b.divide(3),'\\n')"
   ]
  },
  {
   "cell_type": "code",
   "execution_count": 38,
   "metadata": {},
   "outputs": [
    {
     "name": "stdout",
     "output_type": "stream",
     "text": [
      "0    1\n",
      "1    0\n",
      "2    1\n",
      "3    2\n",
      "dtype: int32 \n",
      "\n",
      "0    0\n",
      "1    0\n",
      "2    1\n",
      "3    0\n",
      "dtype: int32 \n",
      "\n"
     ]
    }
   ],
   "source": [
    "print(a.mod(3),'\\n')\n",
    "print(b.mod(2),'\\n')"
   ]
  },
  {
   "cell_type": "code",
   "execution_count": 39,
   "metadata": {},
   "outputs": [
    {
     "data": {
      "text/plain": [
       "(0    18\n",
       " 1    20\n",
       " 2     6\n",
       " 3    11\n",
       " dtype: int32, 0    1\n",
       " 1    2\n",
       " 2    4\n",
       " 3    1\n",
       " dtype: int32)"
      ]
     },
     "execution_count": 39,
     "metadata": {},
     "output_type": "execute_result"
    }
   ],
   "source": [
    "divmod(a,5)"
   ]
  },
  {
   "cell_type": "code",
   "execution_count": 40,
   "metadata": {},
   "outputs": [
    {
     "data": {
      "text/plain": [
       "0     91\n",
       "1    102\n",
       "2     78\n",
       "3     56\n",
       "dtype: int32"
      ]
     },
     "execution_count": 40,
     "metadata": {},
     "output_type": "execute_result"
    }
   ],
   "source": [
    "b=a.replace(34,78)\n",
    "b"
   ]
  },
  {
   "cell_type": "code",
   "execution_count": 41,
   "metadata": {},
   "outputs": [
    {
     "data": {
      "text/plain": [
       "0     NaN\n",
       "1    11.0\n",
       "2   -68.0\n",
       "3    22.0\n",
       "dtype: float64"
      ]
     },
     "execution_count": 41,
     "metadata": {},
     "output_type": "execute_result"
    }
   ],
   "source": [
    "a.diff(1)"
   ]
  },
  {
   "cell_type": "code",
   "execution_count": 42,
   "metadata": {},
   "outputs": [
    {
     "data": {
      "text/plain": [
       "[91, 102, 34, 56]"
      ]
     },
     "execution_count": 42,
     "metadata": {},
     "output_type": "execute_result"
    }
   ],
   "source": [
    "a.tolist()"
   ]
  },
  {
   "cell_type": "code",
   "execution_count": 43,
   "metadata": {},
   "outputs": [
    {
     "data": {
      "text/plain": [
       "0          91\n",
       "1        9282\n",
       "2      315588\n",
       "3    17672928\n",
       "dtype: int32"
      ]
     },
     "execution_count": 43,
     "metadata": {},
     "output_type": "execute_result"
    }
   ],
   "source": [
    "a.cumprod()"
   ]
  },
  {
   "cell_type": "code",
   "execution_count": 44,
   "metadata": {},
   "outputs": [
    {
     "data": {
      "text/plain": [
       "True"
      ]
     },
     "execution_count": 44,
     "metadata": {},
     "output_type": "execute_result"
    }
   ],
   "source": [
    "#prints True if there is no Nan \n",
    "a.all()"
   ]
  },
  {
   "cell_type": "code",
   "execution_count": 45,
   "metadata": {},
   "outputs": [
    {
     "data": {
      "text/plain": [
       "True"
      ]
     },
     "execution_count": 45,
     "metadata": {},
     "output_type": "execute_result"
    }
   ],
   "source": [
    "#prints True if there any number\n",
    "a.any()"
   ]
  },
  {
   "cell_type": "code",
   "execution_count": 46,
   "metadata": {},
   "outputs": [
    {
     "data": {
      "text/plain": [
       "0    45\n",
       "1    51\n",
       "2    17\n",
       "3    28\n",
       "dtype: int32"
      ]
     },
     "execution_count": 46,
     "metadata": {},
     "output_type": "execute_result"
    }
   ],
   "source": [
    "a.floordiv(2)"
   ]
  },
  {
   "cell_type": "code",
   "execution_count": 6,
   "metadata": {},
   "outputs": [
    {
     "name": "stdout",
     "output_type": "stream",
     "text": [
      "None\n"
     ]
    },
    {
     "data": {
      "text/plain": [
       "0    2\n",
       "1    3\n",
       "2    4\n",
       "3    5\n",
       "dtype: int32"
      ]
     },
     "execution_count": 6,
     "metadata": {},
     "output_type": "execute_result"
    }
   ],
   "source": [
    "a=pd.Series(np.array([7,8,9,3]))\n",
    "print(a.update(pd.Series([2,3,4,5],)))\n",
    "a"
   ]
  },
  {
   "cell_type": "code",
   "execution_count": 8,
   "metadata": {},
   "outputs": [
    {
     "name": "stdout",
     "output_type": "stream",
     "text": [
      "0     3\n",
      "1     6\n",
      "2     8\n",
      "3    10\n",
      "dtype: int64\n"
     ]
    }
   ],
   "source": [
    "print(a.add([1,3,4,5]))"
   ]
  },
  {
   "cell_type": "code",
   "execution_count": 9,
   "metadata": {},
   "outputs": [
    {
     "name": "stdout",
     "output_type": "stream",
     "text": [
      "0    11\n",
      "1    12\n",
      "2    13\n",
      "3    15\n",
      "0    22\n",
      "1    18\n",
      "2    23\n",
      "3    17\n",
      "dtype: int32 \n",
      "\n",
      "0    11\n",
      "1    12\n",
      "2    13\n",
      "3    15\n",
      "4    22\n",
      "5    18\n",
      "6    23\n",
      "7    17\n",
      "dtype: int32\n"
     ]
    }
   ],
   "source": [
    "a=pd.Series(np.array([11,12,13,15]))\n",
    "b=pd.Series(np.array([22,18,23,17]))\n",
    "print(a.append(b),'\\n')\n",
    "print(a.append(b,ignore_index=True))"
   ]
  },
  {
   "cell_type": "code",
   "execution_count": 12,
   "metadata": {},
   "outputs": [
    {
     "name": "stdout",
     "output_type": "stream",
     "text": [
      "0    2\n",
      "1    0\n",
      "2    1\n",
      "3    0\n",
      "dtype: int32 \n",
      "\n",
      "0    0\n",
      "1    0\n",
      "2    1\n",
      "3    1\n",
      "dtype: int32 \n",
      "\n"
     ]
    }
   ],
   "source": [
    "print(a.mod(3),'\\n')\n",
    "print(b.mod(2),'\\n')"
   ]
  },
  {
   "cell_type": "code",
   "execution_count": 106,
   "metadata": {},
   "outputs": [
    {
     "name": "stdout",
     "output_type": "stream",
     "text": [
      "matrix a:\n",
      " 0    11\n",
      "1    12\n",
      "2    13\n",
      "3    15\n",
      "dtype: int32\n",
      "addition:\n",
      " 0    12\n",
      "1    15\n",
      "2    17\n",
      "3    20\n",
      "dtype: int64\n",
      "matrix of b:\n",
      " 0    22\n",
      "1    18\n",
      "2    23\n",
      "3    17\n",
      "dtype: int32\n",
      "combination of matrix b in a:\n",
      " 0    11\n",
      "1    12\n",
      "2    13\n",
      "3    15\n",
      "0    22\n",
      "1    18\n",
      "2    23\n",
      "3    17\n",
      "dtype: int32 \n",
      "\n",
      "index:\n",
      " 0    11\n",
      "1    12\n",
      "2    13\n",
      "3    15\n",
      "4    22\n",
      "5    18\n",
      "6    23\n",
      "7    17\n",
      "dtype: int32\n",
      "updating:\n",
      " None\n",
      "division of matrix b:\n",
      " 0    11.00\n",
      "1     6.00\n",
      "2     5.75\n",
      "3     3.40\n",
      "dtype: float64 \n",
      "\n",
      "modulus:\n",
      " 0    2\n",
      "1    0\n",
      "2    1\n",
      "3    2\n",
      "dtype: int32 \n",
      "\n",
      "mod division:\n",
      " (0    0\n",
      "1    0\n",
      "2    0\n",
      "3    1\n",
      "dtype: int32, 0    2\n",
      "1    3\n",
      "2    4\n",
      "3    0\n",
      "dtype: int32) \n",
      "\n",
      "replace:\n",
      " 0    2\n",
      "1    3\n",
      "2    4\n",
      "3    5\n",
      "dtype: int32 \n",
      "\n",
      "difference:\n",
      " 0    NaN\n",
      "1    1.0\n",
      "2    1.0\n",
      "3    1.0\n",
      "dtype: float64 \n",
      "\n",
      "list form:\n",
      " [2, 3, 4, 5] \n",
      "\n",
      "commulative product:\n",
      " 0      2\n",
      "1      6\n",
      "2     24\n",
      "3    120\n",
      "dtype: int32 \n",
      "\n",
      "all:\n",
      " True \n",
      "\n",
      "any:\n",
      " True \n",
      "\n",
      "floordivision:\n",
      " 0    1\n",
      "1    1\n",
      "2    2\n",
      "3    2\n",
      "dtype: int32 \n",
      "\n"
     ]
    }
   ],
   "source": [
    "a=pd.Series(np.array([11,12,13,15]))\n",
    "print('matrix a:\\n',a)\n",
    "print('addition:\\n',a.add([1,3,4,5]))\n",
    "b=pd.Series(np.array([22,18,23,17]))\n",
    "print('matrix of b:\\n',b)\n",
    "print('combination of matrix b in a:\\n',a.append(b),'\\n')#combine matrix\n",
    "print('index:\\n',a.append(b,ignore_index=True))#prints with index\n",
    "print('updating:\\n',a.update(pd.Series([2,3,4,5],)))\n",
    "print('division of matrix b:\\n',b.div(a),'\\n')#division\n",
    "print('modulus:\\n',a.mod(3),'\\n')#mod function\n",
    "print('mod division:\\n',divmod(a,5),'\\n')#mod division\n",
    "print('replace:\\n',a.replace(11,78),'\\n')#replece an element\n",
    "print('difference:\\n',a.diff(1),'\\n')#subtrsction\n",
    "print('list form:\\n',a.tolist(),'\\n')#coverts into list\n",
    "print('commulative product:\\n',a.cumprod(),'\\n')#does commulative product\n",
    "print('all:\\n',a.all(),'\\n')#prints True if there is no Nan\n",
    "print('any:\\n',a.any(),'\\n')#prints True if there any number\n",
    "print('floordivision:\\n',a.floordiv(2),'\\n')"
   ]
  },
  {
   "cell_type": "code",
   "execution_count": 90,
   "metadata": {},
   "outputs": [
    {
     "data": {
      "text/html": [
       "<div>\n",
       "<style scoped>\n",
       "    .dataframe tbody tr th:only-of-type {\n",
       "        vertical-align: middle;\n",
       "    }\n",
       "\n",
       "    .dataframe tbody tr th {\n",
       "        vertical-align: top;\n",
       "    }\n",
       "\n",
       "    .dataframe thead th {\n",
       "        text-align: right;\n",
       "    }\n",
       "</style>\n",
       "<table border=\"1\" class=\"dataframe\">\n",
       "  <thead>\n",
       "    <tr style=\"text-align: right;\">\n",
       "      <th></th>\n",
       "      <th>0</th>\n",
       "    </tr>\n",
       "  </thead>\n",
       "  <tbody>\n",
       "    <tr>\n",
       "      <th>0</th>\n",
       "      <td>11</td>\n",
       "    </tr>\n",
       "    <tr>\n",
       "      <th>1</th>\n",
       "      <td>22</td>\n",
       "    </tr>\n",
       "    <tr>\n",
       "      <th>2</th>\n",
       "      <td>33</td>\n",
       "    </tr>\n",
       "    <tr>\n",
       "      <th>3</th>\n",
       "      <td>44</td>\n",
       "    </tr>\n",
       "    <tr>\n",
       "      <th>4</th>\n",
       "      <td>55</td>\n",
       "    </tr>\n",
       "  </tbody>\n",
       "</table>\n",
       "</div>"
      ],
      "text/plain": [
       "    0\n",
       "0  11\n",
       "1  22\n",
       "2  33\n",
       "3  44\n",
       "4  55"
      ]
     },
     "execution_count": 90,
     "metadata": {},
     "output_type": "execute_result"
    }
   ],
   "source": [
    "#Dataframes using pandas\n",
    "import pandas as pd\n",
    "a=pd.DataFrame([11,22,33,44,55])\n",
    "a"
   ]
  },
  {
   "cell_type": "code",
   "execution_count": 4,
   "metadata": {},
   "outputs": [
    {
     "data": {
      "text/html": [
       "<div>\n",
       "<style scoped>\n",
       "    .dataframe tbody tr th:only-of-type {\n",
       "        vertical-align: middle;\n",
       "    }\n",
       "\n",
       "    .dataframe tbody tr th {\n",
       "        vertical-align: top;\n",
       "    }\n",
       "\n",
       "    .dataframe thead th {\n",
       "        text-align: right;\n",
       "    }\n",
       "</style>\n",
       "<table border=\"1\" class=\"dataframe\">\n",
       "  <thead>\n",
       "    <tr style=\"text-align: right;\">\n",
       "      <th></th>\n",
       "      <th>Names</th>\n",
       "      <th>subject</th>\n",
       "      <th>college</th>\n",
       "    </tr>\n",
       "  </thead>\n",
       "  <tbody>\n",
       "    <tr>\n",
       "      <th>a</th>\n",
       "      <td>mani</td>\n",
       "      <td>DA</td>\n",
       "      <td>IIT</td>\n",
       "    </tr>\n",
       "    <tr>\n",
       "      <th>b</th>\n",
       "      <td>naincy</td>\n",
       "      <td>ML</td>\n",
       "      <td>AEC</td>\n",
       "    </tr>\n",
       "    <tr>\n",
       "      <th>c</th>\n",
       "      <td>vishwa</td>\n",
       "      <td>PYTHON</td>\n",
       "      <td>ACE</td>\n",
       "    </tr>\n",
       "  </tbody>\n",
       "</table>\n",
       "</div>"
      ],
      "text/plain": [
       "    Names subject college\n",
       "a    mani      DA     IIT\n",
       "b  naincy      ML     AEC\n",
       "c  vishwa  PYTHON     ACE"
      ]
     },
     "execution_count": 4,
     "metadata": {},
     "output_type": "execute_result"
    }
   ],
   "source": [
    "d=pd.DataFrame({'Names':['mani','naincy','vishwa'],\n",
    "                'subject':['DA','ML','PYTHON'],\n",
    "                'college':['IIT','AEC','ACE']},\n",
    "                 index=['a','b','c'])\n",
    "d"
   ]
  },
  {
   "cell_type": "code",
   "execution_count": 102,
   "metadata": {},
   "outputs": [
    {
     "data": {
      "text/html": [
       "<div>\n",
       "<style scoped>\n",
       "    .dataframe tbody tr th:only-of-type {\n",
       "        vertical-align: middle;\n",
       "    }\n",
       "\n",
       "    .dataframe tbody tr th {\n",
       "        vertical-align: top;\n",
       "    }\n",
       "\n",
       "    .dataframe thead th {\n",
       "        text-align: right;\n",
       "    }\n",
       "</style>\n",
       "<table border=\"1\" class=\"dataframe\">\n",
       "  <thead>\n",
       "    <tr style=\"text-align: right;\">\n",
       "      <th></th>\n",
       "      <th>Names</th>\n",
       "      <th>subject</th>\n",
       "      <th>college</th>\n",
       "    </tr>\n",
       "  </thead>\n",
       "  <tbody>\n",
       "    <tr>\n",
       "      <th>a</th>\n",
       "      <td>mani</td>\n",
       "      <td>DA</td>\n",
       "      <td>IIT</td>\n",
       "    </tr>\n",
       "    <tr>\n",
       "      <th>b</th>\n",
       "      <td>naincy</td>\n",
       "      <td>ML</td>\n",
       "      <td>AEC</td>\n",
       "    </tr>\n",
       "  </tbody>\n",
       "</table>\n",
       "</div>"
      ],
      "text/plain": [
       "    Names subject college\n",
       "a    mani      DA     IIT\n",
       "b  naincy      ML     AEC"
      ]
     },
     "execution_count": 102,
     "metadata": {},
     "output_type": "execute_result"
    }
   ],
   "source": [
    "#indexing rows\n",
    "d[0:2]"
   ]
  },
  {
   "cell_type": "code",
   "execution_count": 104,
   "metadata": {},
   "outputs": [
    {
     "data": {
      "text/plain": [
       "a        DA\n",
       "b        ML\n",
       "c    PYTHON\n",
       "Name: subject, dtype: object"
      ]
     },
     "execution_count": 104,
     "metadata": {},
     "output_type": "execute_result"
    }
   ],
   "source": [
    "d['subject']"
   ]
  },
  {
   "cell_type": "code",
   "execution_count": 1,
   "metadata": {},
   "outputs": [],
   "source": [
    "import pandas as pd\n",
    "import numpy as np"
   ]
  },
  {
   "cell_type": "code",
   "execution_count": 12,
   "metadata": {},
   "outputs": [
    {
     "data": {
      "text/html": [
       "<div>\n",
       "<style scoped>\n",
       "    .dataframe tbody tr th:only-of-type {\n",
       "        vertical-align: middle;\n",
       "    }\n",
       "\n",
       "    .dataframe tbody tr th {\n",
       "        vertical-align: top;\n",
       "    }\n",
       "\n",
       "    .dataframe thead th {\n",
       "        text-align: right;\n",
       "    }\n",
       "</style>\n",
       "<table border=\"1\" class=\"dataframe\">\n",
       "  <thead>\n",
       "    <tr style=\"text-align: right;\">\n",
       "      <th></th>\n",
       "      <th>empname</th>\n",
       "      <th>empid</th>\n",
       "      <th>salary</th>\n",
       "      <th>designation</th>\n",
       "    </tr>\n",
       "  </thead>\n",
       "  <tbody>\n",
       "    <tr>\n",
       "      <th>1</th>\n",
       "      <td>mani</td>\n",
       "      <td>2</td>\n",
       "      <td>100000</td>\n",
       "      <td>CEO</td>\n",
       "    </tr>\n",
       "    <tr>\n",
       "      <th>2</th>\n",
       "      <td>naincy</td>\n",
       "      <td>3</td>\n",
       "      <td>30000</td>\n",
       "      <td>tester</td>\n",
       "    </tr>\n",
       "    <tr>\n",
       "      <th>3</th>\n",
       "      <td>vishwa</td>\n",
       "      <td>9</td>\n",
       "      <td>75000</td>\n",
       "      <td>designer</td>\n",
       "    </tr>\n",
       "    <tr>\n",
       "      <th>4</th>\n",
       "      <td>satya</td>\n",
       "      <td>5</td>\n",
       "      <td>25000</td>\n",
       "      <td>develper</td>\n",
       "    </tr>\n",
       "    <tr>\n",
       "      <th>5</th>\n",
       "      <td>ramu</td>\n",
       "      <td>8</td>\n",
       "      <td>30000</td>\n",
       "      <td>manager</td>\n",
       "    </tr>\n",
       "    <tr>\n",
       "      <th>6</th>\n",
       "      <td>ravi</td>\n",
       "      <td>7</td>\n",
       "      <td>85000</td>\n",
       "      <td>receptionist</td>\n",
       "    </tr>\n",
       "    <tr>\n",
       "      <th>7</th>\n",
       "      <td>raju</td>\n",
       "      <td>5</td>\n",
       "      <td>90000</td>\n",
       "      <td>assitant</td>\n",
       "    </tr>\n",
       "    <tr>\n",
       "      <th>8</th>\n",
       "      <td>honey</td>\n",
       "      <td>1</td>\n",
       "      <td>45000</td>\n",
       "      <td>professor</td>\n",
       "    </tr>\n",
       "    <tr>\n",
       "      <th>9</th>\n",
       "      <td>aditya</td>\n",
       "      <td>3</td>\n",
       "      <td>50000</td>\n",
       "      <td>designer</td>\n",
       "    </tr>\n",
       "    <tr>\n",
       "      <th>10</th>\n",
       "      <td>twinkle</td>\n",
       "      <td>5</td>\n",
       "      <td>40000</td>\n",
       "      <td>developer</td>\n",
       "    </tr>\n",
       "  </tbody>\n",
       "</table>\n",
       "</div>"
      ],
      "text/plain": [
       "    empname empid  salary   designation\n",
       "1      mani     2  100000           CEO\n",
       "2    naincy     3   30000        tester\n",
       "3    vishwa     9   75000      designer\n",
       "4     satya     5   25000      develper\n",
       "5      ramu     8   30000       manager\n",
       "6      ravi     7   85000  receptionist\n",
       "7      raju     5   90000      assitant\n",
       "8     honey     1   45000     professor\n",
       "9    aditya     3   50000      designer\n",
       "10  twinkle     5   40000     developer"
      ]
     },
     "execution_count": 12,
     "metadata": {},
     "output_type": "execute_result"
    }
   ],
   "source": [
    "x=pd.DataFrame({'empname':['mani','naincy','vishwa','satya','ramu','ravi','raju','honey','aditya','twinkle'],\n",
    "               'empid':['2','3','9','5','8','7','5','1','3','5'],\n",
    "               'salary':['100000','30000','75000','25000','30000','85000','90000','45000','50000','40000'],\n",
    "               'designation':['CEO','tester','designer','develper','manager','receptionist','assitant','professor','designer','developer']},\n",
    "              index=['1','2','3','4','5','6','7','8','9','10'])\n",
    "x"
   ]
  },
  {
   "cell_type": "code",
   "execution_count": 14,
   "metadata": {},
   "outputs": [
    {
     "data": {
      "text/plain": [
       "1     100000\n",
       "2      30000\n",
       "3      75000\n",
       "4      25000\n",
       "5      30000\n",
       "6      85000\n",
       "7      90000\n",
       "8      45000\n",
       "9      50000\n",
       "10     40000\n",
       "Name: salary, dtype: object"
      ]
     },
     "execution_count": 14,
     "metadata": {},
     "output_type": "execute_result"
    }
   ],
   "source": [
    "x['salary']"
   ]
  },
  {
   "cell_type": "code",
   "execution_count": null,
   "metadata": {},
   "outputs": [],
   "source": []
  }
 ],
 "metadata": {
  "kernelspec": {
   "display_name": "Python 3",
   "language": "python",
   "name": "python3"
  },
  "language_info": {
   "codemirror_mode": {
    "name": "ipython",
    "version": 3
   },
   "file_extension": ".py",
   "mimetype": "text/x-python",
   "name": "python",
   "nbconvert_exporter": "python",
   "pygments_lexer": "ipython3",
   "version": "3.7.3"
  }
 },
 "nbformat": 4,
 "nbformat_minor": 2
}
